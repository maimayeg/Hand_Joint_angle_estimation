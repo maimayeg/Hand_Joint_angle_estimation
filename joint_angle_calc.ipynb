{
 "cells": [
  {
   "cell_type": "code",
   "execution_count": 1,
   "id": "834ef92b-a241-48ab-b420-32314283d468",
   "metadata": {},
   "outputs": [
    {
     "name": "stderr",
     "output_type": "stream",
     "text": [
      "2024-09-11 17:08:46.648321: E external/local_xla/xla/stream_executor/cuda/cuda_fft.cc:479] Unable to register cuFFT factory: Attempting to register factory for plugin cuFFT when one has already been registered\n",
      "2024-09-11 17:08:46.684956: E external/local_xla/xla/stream_executor/cuda/cuda_dnn.cc:10575] Unable to register cuDNN factory: Attempting to register factory for plugin cuDNN when one has already been registered\n",
      "2024-09-11 17:08:46.685033: E external/local_xla/xla/stream_executor/cuda/cuda_blas.cc:1442] Unable to register cuBLAS factory: Attempting to register factory for plugin cuBLAS when one has already been registered\n",
      "2024-09-11 17:08:46.707832: I tensorflow/core/platform/cpu_feature_guard.cc:210] This TensorFlow binary is optimized to use available CPU instructions in performance-critical operations.\n",
      "To enable the following instructions: AVX2 FMA, in other operations, rebuild TensorFlow with the appropriate compiler flags.\n",
      "2024-09-11 17:08:48.352874: W tensorflow/compiler/tf2tensorrt/utils/py_utils.cc:38] TF-TRT Warning: Could not find TensorRT\n"
     ]
    }
   ],
   "source": [
    "import cv2\n",
    "import mediapipe as mp\n",
    "import numpy as np\n",
    "import json\n",
    "import math"
   ]
  },
  {
   "cell_type": "code",
   "execution_count": 2,
   "id": "a9f08d40-080d-497c-8e7c-3eae73c624b5",
   "metadata": {},
   "outputs": [
    {
     "name": "stderr",
     "output_type": "stream",
     "text": [
      "WARNING: All log messages before absl::InitializeLog() is called are written to STDERR\n",
      "I0000 00:00:1726067329.890077   57402 gl_context_egl.cc:85] Successfully initialized EGL. Major : 1 Minor: 5\n",
      "I0000 00:00:1726067329.895375   57472 gl_context.cc:357] GL version: 3.2 (OpenGL ES 3.2 Mesa 23.2.1-1ubuntu3.1~22.04.2), renderer: AMD Radeon Vega 8 Graphics (raven, LLVM 15.0.7, DRM 3.57, 6.8.0-40-generic)\n"
     ]
    }
   ],
   "source": [
    "# Initialize MediaPipe Hands\n",
    "mp_hands = mp.solutions.hands\n",
    "hands = mp_hands.Hands(static_image_mode=False, max_num_hands=1, min_detection_confidence=0.5)\n",
    "mp_drawing = mp.solutions.drawing_utils\n"
   ]
  },
  {
   "cell_type": "code",
   "execution_count": 3,
   "id": "14a7cff4-b736-42f6-82cf-46443b7286fb",
   "metadata": {},
   "outputs": [
    {
     "name": "stderr",
     "output_type": "stream",
     "text": [
      "INFO: Created TensorFlow Lite XNNPACK delegate for CPU.\n",
      "W0000 00:00:1726067329.958662   57464 inference_feedback_manager.cc:114] Feedback manager requires a model with a single signature inference. Disabling support for feedback tensors.\n",
      "W0000 00:00:1726067330.005780   57461 inference_feedback_manager.cc:114] Feedback manager requires a model with a single signature inference. Disabling support for feedback tensors.\n"
     ]
    }
   ],
   "source": [
    "# Helper function to calculate angle between three points\n",
    "def calculate_angle(A, B, C):\n",
    "    BA = A - B\n",
    "    BC = C - B\n",
    "    cosine_angle = np.dot(BA, BC) / (np.linalg.norm(BA) * np.linalg.norm(BC))\n",
    "    angle = np.arccos(cosine_angle)\n",
    "    return np.degrees(angle)"
   ]
  },
  {
   "cell_type": "code",
   "execution_count": 4,
   "id": "12d68467-f942-42bb-9db7-e3cee425b027",
   "metadata": {},
   "outputs": [
    {
     "name": "stderr",
     "output_type": "stream",
     "text": [
      "W0000 00:00:1726067334.199524   57465 landmark_projection_calculator.cc:186] Using NORM_RECT without IMAGE_DIMENSIONS is only supported for the square ROI. Provide IMAGE_DIMENSIONS or use PROJECTION_MATRIX.\n",
      "/home/maimayeg/.local/lib/python3.10/site-packages/google/protobuf/symbol_database.py:55: UserWarning: SymbolDatabase.GetPrototype() is deprecated. Please use message_factory.GetMessageClass() instead. SymbolDatabase.GetPrototype() will be removed soon.\n",
      "  warnings.warn('SymbolDatabase.GetPrototype() is deprecated. Please '\n",
      "Warning: Ignoring XDG_SESSION_TYPE=wayland on Gnome. Use QT_QPA_PLATFORM=wayland to run on Wayland anyway.\n"
     ]
    }
   ],
   "source": [
    "# Video capture\n",
    "cap = cv2.VideoCapture(0)  # Or use video file path\n",
    "# For storing angles per frame\n",
    "angle_data = []\n",
    "\n",
    "while cap.isOpened():\n",
    "    ret, frame = cap.read()\n",
    "    if not ret:\n",
    "        break\n",
    "    \n",
    "    # Convert the frame to RGB for MediaPipe processing\n",
    "    rgb_frame = cv2.cvtColor(frame, cv2.COLOR_BGR2RGB)\n",
    "    result = hands.process(rgb_frame)\n",
    "    \n",
    "    # Check if any hand landmarks are detected\n",
    "    if result.multi_hand_landmarks:\n",
    "        for hand_landmarks in result.multi_hand_landmarks:\n",
    "            # List of all landmark points\n",
    "            landmarks = [(lm.x, lm.y, lm.z) for lm in hand_landmarks.landmark]\n",
    "            landmarks = np.array(landmarks)  # Convert to NumPy array for easier processing\n",
    "            \n",
    "            # Calculate angles at specific joints (example: knuckles)\n",
    "            angles = {\n",
    "                'thumb_base': calculate_angle(landmarks[0], landmarks[1], landmarks[2]),\n",
    "                'thumb_knuckle_1': calculate_angle(landmarks[1], landmarks[2], landmarks[3]),\n",
    "                'thumb_knuckle_2': calculate_angle(landmarks[2], landmarks[3], landmarks[4]),\n",
    "                'index_base': calculate_angle(landmarks[0], landmarks[5], landmarks[6]),\n",
    "                'index_knuckle_1': calculate_angle(landmarks[5], landmarks[6], landmarks[7]),\n",
    "                'index_knuckle_2': calculate_angle(landmarks[6], landmarks[7], landmarks[8]),\n",
    "                'middle_base': calculate_angle(landmarks[0], landmarks[9], landmarks[10]),\n",
    "                'middle_knuckle_1': calculate_angle(landmarks[9], landmarks[10], landmarks[11]),\n",
    "                'middle_knuckle_2': calculate_angle(landmarks[10], landmarks[11], landmarks[12]),\n",
    "                'ring_base': calculate_angle(landmarks[0], landmarks[13], landmarks[14]),\n",
    "                'ring_knuckle_1': calculate_angle(landmarks[13], landmarks[14], landmarks[15]),\n",
    "                'ring_knuckle_2': calculate_angle(landmarks[14], landmarks[15], landmarks[16]),\n",
    "                'pinky_base': calculate_angle(landmarks[0], landmarks[17], landmarks[18]),\n",
    "                'pinky_knuckle_1': calculate_angle(landmarks[17], landmarks[18], landmarks[19]),\n",
    "                'pinky_knuckle_2': calculate_angle(landmarks[18], landmarks[19], landmarks[20])\n",
    "\n",
    "            }\n",
    "            angle_data.append(angles)\n",
    "\n",
    "            # Drawing keypoints and connections on the hand\n",
    "            mp_drawing.draw_landmarks(frame, hand_landmarks, mp_hands.HAND_CONNECTIONS)\n",
    "            \n",
    "            # Displaying angles at the joints on the frame\n",
    "            for joint, angle in angles.items():\n",
    "                cv2.putText(frame, f\"{joint}: {int(angle)} deg\", (50, 50), cv2.FONT_HERSHEY_SIMPLEX, 0.5, (255, 0, 0), 2)\n",
    "\n",
    "    # Show the frame with keypoints and angles\n",
    "    cv2.imshow('Hand Tracking', frame)\n",
    "    #exit video when pressing q\n",
    "    if cv2.waitKey(10) & 0xFF == ord('q'):\n",
    "        break\n",
    "    "
   ]
  },
  {
   "cell_type": "code",
   "execution_count": 5,
   "id": "2fe6e148-e645-411c-a1f9-4909d77df8ec",
   "metadata": {},
   "outputs": [],
   "source": [
    "# Release video capture and close windows\n",
    "cap.release()\n",
    "cv2.destroyAllWindows()\n",
    "\n",
    "# Save joint angles to a JSON file\n",
    "with open('joint_angles.json', 'w') as f:\n",
    "    json.dump(angle_data, f)"
   ]
  },
  {
   "cell_type": "code",
   "execution_count": null,
   "id": "8ceb29d4-1684-4aee-b250-1dd9b112f23d",
   "metadata": {},
   "outputs": [],
   "source": []
  }
 ],
 "metadata": {
  "kernelspec": {
   "display_name": "Python 3 (ipykernel)",
   "language": "python",
   "name": "python3"
  },
  "language_info": {
   "codemirror_mode": {
    "name": "ipython",
    "version": 3
   },
   "file_extension": ".py",
   "mimetype": "text/x-python",
   "name": "python",
   "nbconvert_exporter": "python",
   "pygments_lexer": "ipython3",
   "version": "3.10.12"
  }
 },
 "nbformat": 4,
 "nbformat_minor": 5
}
